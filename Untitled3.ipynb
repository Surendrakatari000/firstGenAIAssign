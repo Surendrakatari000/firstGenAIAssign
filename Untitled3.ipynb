{
  "nbformat": 4,
  "nbformat_minor": 0,
  "metadata": {
    "colab": {
      "provenance": [],
      "authorship_tag": "ABX9TyORGvnYt7xqCJRmEE3jwIfN",
      "include_colab_link": true
    },
    "kernelspec": {
      "name": "python3",
      "display_name": "Python 3"
    },
    "language_info": {
      "name": "python"
    }
  },
  "cells": [
    {
      "cell_type": "markdown",
      "metadata": {
        "id": "view-in-github",
        "colab_type": "text"
      },
      "source": [
        "<a href=\"https://colab.research.google.com/github/Surendrakatari000/firstGenAIAssign/blob/main/Untitled3.ipynb\" target=\"_parent\"><img src=\"https://colab.research.google.com/assets/colab-badge.svg\" alt=\"Open In Colab\"/></a>"
      ]
    },
    {
      "cell_type": "code",
      "execution_count": null,
      "metadata": {
        "id": "6qekzK9fkKNt"
      },
      "outputs": [],
      "source": [
        "!pip install transformers\n",
        "from transformers import pipeline\n",
        "generator = pipeline(\"text-generation\", model=\"gpt2\")\n",
        "prompt = \"The future of artificial intelligence is\"\n",
        "output = generator(prompt)\n",
        "print(output[0][\"generated_text\"])"
      ]
    },
    {
      "cell_type": "code",
      "source": [
        "#types of prompts for text-generation task by using llm \"google/flan-t5-base\"\n",
        "!pip install transformers\n",
        "from transformers import pipeline\n",
        "\n",
        "generator = pipeline(\"text2text-generation\", model=\"google/flan-t5-base\")\n",
        "\n",
        "\n",
        "zero_shot = \"Translate English to Hindi: I love programming.\"\n",
        "print(generator(zero_shot))\n",
        "\n",
        "\n",
        "few_shot = \"\"\"Translate English to Hindi:\n",
        "English: Hello\n",
        "Hindi: नमस्ते\n",
        "\n",
        "English: How are you?\n",
        "Hindi: आप कैसे हैं?\n",
        "\n",
        "English: I love programming.\n",
        "Hindi:\"\"\"\n",
        "print(generator(few_shot))\n",
        "\n",
        "\n",
        "cot_prompt = \"\"\"Q: Tom has 3 apples. He buys 2 more. Then he gives 1 to his friend. How many apples does Tom have now?\n",
        "A: Let's think step by step.\"\"\"\n",
        "print(generator(cot_prompt))\n",
        "\n",
        "\n",
        "article = \"OpenAI released a new model called GPT-4o. It can handle text, image, and audio simultaneously. It is faster and cheaper than GPT-4.\"\n",
        "template = f\"Summarize the following text in one sentence:{article}\"\n",
        "\n",
        "print(generator(template))\n",
        "\n",
        "role_prompt = \"You are a helpful assistant. Explain what AI is in simple words.\"\n",
        "print(generator(role_prompt))\n",
        "\n",
        "\n",
        "#Zero-shot prompt relies on clear instructions without examples; it’s fast but may lack context for tricky tasks.\n",
        "#Few-shot prompt gives examples to guide the model’s behavior, improving accuracy but increasing prompt length."
      ],
      "metadata": {
        "id": "DpUrF91NkM_k"
      },
      "execution_count": null,
      "outputs": []
    }
  ]
}